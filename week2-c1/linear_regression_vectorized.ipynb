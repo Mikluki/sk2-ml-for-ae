{
  "nbformat": 4,
  "nbformat_minor": 0,
  "metadata": {
    "colab": {
      "provenance": []
    },
    "kernelspec": {
      "name": "python3",
      "display_name": "Python 3"
    },
    "language_info": {
      "name": "python"
    }
  },
  "cells": [
    {
      "cell_type": "code",
      "execution_count": null,
      "metadata": {
        "id": "-ieXGhWuJMmZ"
      },
      "outputs": [],
      "source": [
        "import numpy as np\n",
        "x = [45.4, 32.6, 37.9, 36.4, 53.1, 75.0, 39.0, 30.3, 69.2, 52, 32, 48.2, 98.1, 140, 130, 57.9, 52.5, 35.7, 62.5, 27, 123, 48.4, 50.3, 45]\n",
        "y = [13.2, 11.0, 4.9, 12.7, 17.2, 26.4, 12.0, 2.9, 12.99, 10.4, 9, 13.3, 31.5, 84.3, 37.8, 24.1, 22.5, 13.2, 15.17, 7, 63.39, 14.5, 9.6, 7.8]"
      ]
    },
    {
      "cell_type": "code",
      "source": [
        "x2 = np.sqrt(np.array(x))\n",
        "x2 = x2.reshape(-1, 1)"
      ],
      "metadata": {
        "id": "9bvx31QyOFu-"
      },
      "execution_count": null,
      "outputs": []
    },
    {
      "cell_type": "code",
      "source": [
        "X = np.array(x).reshape(-1, 1)\n",
        "X = np.hstack([np.ones(len(x)).reshape(-1, 1), X, x2])\n",
        "y = np.array(y).reshape(-1, 1)"
      ],
      "metadata": {
        "id": "_-pelq7gJZ5J"
      },
      "execution_count": null,
      "outputs": []
    },
    {
      "cell_type": "code",
      "source": [
        "X"
      ],
      "metadata": {
        "colab": {
          "base_uri": "https://localhost:8080/"
        },
        "id": "K2BTP97VOczH",
        "outputId": "87a26ee6-5a89-4c52-f9f0-bb9568d658d3"
      },
      "execution_count": null,
      "outputs": [
        {
          "output_type": "execute_result",
          "data": {
            "text/plain": [
              "array([[1.00000e+00, 4.54000e+01, 2.06116e+03],\n",
              "       [1.00000e+00, 3.26000e+01, 1.06276e+03],\n",
              "       [1.00000e+00, 3.79000e+01, 1.43641e+03],\n",
              "       [1.00000e+00, 3.64000e+01, 1.32496e+03],\n",
              "       [1.00000e+00, 5.31000e+01, 2.81961e+03],\n",
              "       [1.00000e+00, 7.50000e+01, 5.62500e+03],\n",
              "       [1.00000e+00, 3.90000e+01, 1.52100e+03],\n",
              "       [1.00000e+00, 3.03000e+01, 9.18090e+02],\n",
              "       [1.00000e+00, 6.92000e+01, 4.78864e+03],\n",
              "       [1.00000e+00, 5.20000e+01, 2.70400e+03],\n",
              "       [1.00000e+00, 3.20000e+01, 1.02400e+03],\n",
              "       [1.00000e+00, 4.82000e+01, 2.32324e+03],\n",
              "       [1.00000e+00, 9.81000e+01, 9.62361e+03],\n",
              "       [1.00000e+00, 1.40000e+02, 1.96000e+04],\n",
              "       [1.00000e+00, 1.30000e+02, 1.69000e+04],\n",
              "       [1.00000e+00, 5.79000e+01, 3.35241e+03],\n",
              "       [1.00000e+00, 5.25000e+01, 2.75625e+03],\n",
              "       [1.00000e+00, 3.57000e+01, 1.27449e+03],\n",
              "       [1.00000e+00, 6.25000e+01, 3.90625e+03],\n",
              "       [1.00000e+00, 2.70000e+01, 7.29000e+02],\n",
              "       [1.00000e+00, 1.23000e+02, 1.51290e+04],\n",
              "       [1.00000e+00, 4.84000e+01, 2.34256e+03],\n",
              "       [1.00000e+00, 5.03000e+01, 2.53009e+03],\n",
              "       [1.00000e+00, 4.50000e+01, 2.02500e+03]])"
            ]
          },
          "metadata": {},
          "execution_count": 80
        }
      ]
    },
    {
      "cell_type": "code",
      "source": [
        "w = np.array([0.1, 0.5]).reshape(-1, 1)"
      ],
      "metadata": {
        "id": "7vuW4pYkKh22"
      },
      "execution_count": null,
      "outputs": []
    },
    {
      "cell_type": "code",
      "source": [
        "def model(X, w):\n",
        "  return np.dot(X, w)"
      ],
      "metadata": {
        "id": "pcZpmDzVJdUC"
      },
      "execution_count": null,
      "outputs": []
    },
    {
      "cell_type": "code",
      "source": [
        "def loss(y, y_pred):\n",
        "  m = y.shape[0]\n",
        "  mse = 1.0 / m * np.dot((y - y_pred).T, (y - y_pred)).squeeze()\n",
        "  return mse"
      ],
      "metadata": {
        "id": "4ikx-fbmJewJ"
      },
      "execution_count": null,
      "outputs": []
    },
    {
      "cell_type": "code",
      "source": [
        "# Loss check\n",
        "# ???"
      ],
      "metadata": {
        "id": "gcJrCunDM1km"
      },
      "execution_count": null,
      "outputs": []
    },
    {
      "cell_type": "code",
      "source": [
        "def grad(X, y, y_pred):\n",
        "  m = y.shape[0]\n",
        "  grad = -2.0 / m * np.dot(X.T, (y - y_pred))\n",
        "  return grad"
      ],
      "metadata": {
        "id": "dmq53kFfK3hQ"
      },
      "execution_count": null,
      "outputs": []
    },
    {
      "cell_type": "code",
      "source": [
        "# Gradient check\n",
        "w = np.array([0.7, 0.7]).reshape(-1, 1)\n",
        "y_pred = model(X, w)\n",
        "g = grad(X, y, y_pred)\n",
        "print(g)"
      ],
      "metadata": {
        "colab": {
          "base_uri": "https://localhost:8080/"
        },
        "id": "QCKyDmn3LUeG",
        "outputId": "3d82cde2-17b3-4a61-b148-03ae70b061ff"
      },
      "execution_count": null,
      "outputs": [
        {
          "output_type": "stream",
          "name": "stdout",
          "text": [
            "[[  44.58333333]\n",
            " [2974.30733333]]\n"
          ]
        }
      ]
    },
    {
      "cell_type": "code",
      "source": [
        "nstep = 10\n",
        "learning_rate = 0.00001 # gradient step, learning_rate (lr)\n",
        "w = np.array([1.2, 1.2, 0.2]).reshape(-1, 1)\n",
        "losses = []\n",
        "\n",
        "for i in range(nstep):\n",
        "  # Predict\n",
        "  y_pred = model(X, w)\n",
        "  # Gradient calculation\n",
        "  g = grad(X, y, y_pred)\n",
        "  # Update weights\n",
        "  w = w - learning_rate * g\n",
        "  # Calculate the prediction\n",
        "  l = loss(y, y_pred)\n",
        "  losses.append(l)\n",
        "  print('NSTEP :: ', i, 'LOSS :: ', l, 'GRAD :: ', g)"
      ],
      "metadata": {
        "colab": {
          "base_uri": "https://localhost:8080/"
        },
        "id": "FuVTuZd0L7Rx",
        "outputId": "387828a9-c47c-47ba-e674-97fd8cf53e80"
      },
      "execution_count": null,
      "outputs": [
        {
          "output_type": "stream",
          "name": "stdout",
          "text": [
            "NSTEP ::  0 LOSS ::  3424.598086144783 GRAD ::  [[ 107.80218802]\n",
            " [7724.20963239]\n",
            " [ 884.94978489]]\n",
            "NSTEP ::  1 LOSS ::  2847.507602428368 GRAD ::  [[  98.51777579]\n",
            " [7021.48810573]\n",
            " [ 806.66540084]]\n",
            "NSTEP ::  2 LOSS ::  2370.6087896694817 GRAD ::  [[  90.07768376]\n",
            " [6382.67485554]\n",
            " [ 735.50034157]]\n",
            "NSTEP ::  3 LOSS ::  1976.5066644620915 GRAD ::  [[  82.40512612]\n",
            " [5801.95781196]\n",
            " [ 670.80714771]]\n",
            "NSTEP ::  4 LOSS ::  1650.8263093161934 GRAD ::  [[  75.43030029]\n",
            " [5274.05347763]\n",
            " [ 611.99724239]]\n",
            "NSTEP ::  5 LOSS ::  1381.6885376858004 GRAD ::  [[  69.08975179]\n",
            " [4794.1588572 ]\n",
            " [ 558.53557624]]\n",
            "NSTEP ::  6 LOSS ::  1159.2765924943956 GRAD ::  [[  63.32579696]\n",
            " [4357.90775859]\n",
            " [ 509.9357594 ]]\n",
            "NSTEP ::  7 LOSS ::  975.4780731894352 GRAD ::  [[  58.08599811]\n",
            " [3961.33106838]\n",
            " [ 465.75563617]]\n",
            "NSTEP ::  8 LOSS ::  823.5890303697089 GRAD ::  [[  53.32268642]\n",
            " [3600.82063995]\n",
            " [ 425.59326227]]\n",
            "NSTEP ::  9 LOSS ::  698.0694346341859 GRAD ::  [[  48.9925283]\n",
            " [3273.0964657]\n",
            " [ 389.0832478]]\n"
          ]
        }
      ]
    },
    {
      "cell_type": "code",
      "source": [],
      "metadata": {
        "id": "ZL6wQtYjO5us"
      },
      "execution_count": null,
      "outputs": []
    }
  ]
}